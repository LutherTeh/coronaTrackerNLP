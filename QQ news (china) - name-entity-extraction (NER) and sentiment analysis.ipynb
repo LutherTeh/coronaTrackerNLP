{
 "cells": [
  {
   "cell_type": "code",
   "execution_count": 1,
   "metadata": {},
   "outputs": [
    {
     "name": "stderr",
     "output_type": "stream",
     "text": [
      "C:\\Users\\Luthe\\Anaconda3\\lib\\site-packages\\sklearn\\externals\\joblib\\__init__.py:15: DeprecationWarning: sklearn.externals.joblib is deprecated in 0.21 and will be removed in 0.23. Please import this functionality directly from joblib, which can be installed with: pip install joblib. If this warning is raised when loading pickled models, you may need to re-serialize those models with scikit-learn 0.21+.\n",
      "  warnings.warn(msg, category=DeprecationWarning)\n"
     ]
    }
   ],
   "source": [
    "from sklearn.externals import joblib\n",
    "from flask import Flask, jsonify,request,json\n",
    "from flask import render_template\n",
    "import spacy\n",
    "import en_core_web_sm\n",
    "# from googletrans import Translator\n",
    "import pandas as pd\n",
    "import re\n",
    "import nltk\n",
    "from nltk.corpus import stopwords\n",
    "from nltk.stem import WordNetLemmatizer\n",
    "\n",
    "\n",
    "## chinese word nlp\n",
    "import jieba.analyse as analyse\n",
    "import jieba\n",
    "\n",
    "\n",
    "\n",
    "from sqlalchemy import create_engine\n",
    "from vaderSentiment.vaderSentiment import SentimentIntensityAnalyzer\n"
   ]
  },
  {
   "cell_type": "code",
   "execution_count": 14,
   "metadata": {},
   "outputs": [],
   "source": [
    "## DB connection\n",
    "sql_hostname = 'YOUR_CODE\n",
    "sql_username = 'YOUR_CODE'\n",
    "sql_password = 'YOUR_CODE'\n",
    "sql_main_database = 'YOUR_CODE'\n",
    "sql_table =\"YOUR_CODE\"\n",
    "\n",
    "\n",
    "# engine = create_engine('mysql+pymysql://{}:{}@{}:{}/{}'.format(sql_username,sql_password,sql_hostname,sql_main_database))\n",
    "\n",
    "engine = create_engine('mysql://{}:{}@{}/{}?charset=utf8mb4'.format(sql_username,sql_password,sql_hostname,sql_main_database))\n",
    "\n",
    "\n",
    "## SQL query\n",
    "query = \"select * from \" + str(sql_main_database) + \".\" + str(sql_table)"
   ]
  },
  {
   "cell_type": "code",
   "execution_count": 15,
   "metadata": {},
   "outputs": [],
   "source": [
    "## read from db\n",
    "df = pd.read_sql_query(query, engine)\n"
   ]
  },
  {
   "cell_type": "code",
   "execution_count": 6,
   "metadata": {},
   "outputs": [],
   "source": [
    "## load NLP model\n",
    "nlp = en_core_web_sm.load()\n",
    "\n",
    "## VaderSentiment analyser\n",
    "analyser = SentimentIntensityAnalyzer()\n"
   ]
  },
  {
   "cell_type": "markdown",
   "metadata": {},
   "source": [
    "## user define function"
   ]
  },
  {
   "cell_type": "code",
   "execution_count": 22,
   "metadata": {},
   "outputs": [],
   "source": [
    "\n",
    "\n",
    "\n",
    "def entity_tag_zh(article):\n",
    "    entity_list=[]\n",
    "    for key in analyse.extract_tags(article,3, withWeight=False):  ## second variable refer to total num result return\n",
    "#     \tentity_list.append( key.encode('utf-8'))\n",
    "        entity_list.append( key)\n",
    "    return entity_list\n",
    "\n",
    "def sentiment_analyzer_scores(sentence):\n",
    "    score = analyser.polarity_scores(sentence)\n",
    "    \n",
    "    return score\n",
    "\n"
   ]
  },
  {
   "cell_type": "markdown",
   "metadata": {},
   "source": [
    "## Name entities tag (chinese)"
   ]
  },
  {
   "cell_type": "code",
   "execution_count": 16,
   "metadata": {},
   "outputs": [
    {
     "data": {
      "text/html": [
       "<div>\n",
       "<style scoped>\n",
       "    .dataframe tbody tr th:only-of-type {\n",
       "        vertical-align: middle;\n",
       "    }\n",
       "\n",
       "    .dataframe tbody tr th {\n",
       "        vertical-align: top;\n",
       "    }\n",
       "\n",
       "    .dataframe thead th {\n",
       "        text-align: right;\n",
       "    }\n",
       "</style>\n",
       "<table border=\"1\" class=\"dataframe\">\n",
       "  <thead>\n",
       "    <tr style=\"text-align: right;\">\n",
       "      <th></th>\n",
       "      <th>_id</th>\n",
       "      <th>time</th>\n",
       "      <th>title</th>\n",
       "      <th>desc</th>\n",
       "      <th>source</th>\n",
       "      <th>create_time</th>\n",
       "      <th>query_time</th>\n",
       "    </tr>\n",
       "  </thead>\n",
       "  <tbody>\n",
       "    <tr>\n",
       "      <td>0</td>\n",
       "      <td>1</td>\n",
       "      <td>2020-01-23 10:20:00</td>\n",
       "      <td>四川新增3例输入性新型肺炎病例 累计确诊8例</td>\n",
       "      <td>截止1月23日8时，四川省累计报告新型冠状病毒感染的肺炎确诊病例8例（其中成都4例、绵阳2例...</td>\n",
       "      <td>四川省卫健委</td>\n",
       "      <td>2020-01-23 13:13:18</td>\n",
       "      <td>2020-01-28 18:00:03</td>\n",
       "    </tr>\n",
       "    <tr>\n",
       "      <td>1</td>\n",
       "      <td>2</td>\n",
       "      <td>2020-01-23 10:14:00</td>\n",
       "      <td>山东新增4例新型冠状病毒肺炎确诊病例</td>\n",
       "      <td>1月22日0-24时，山东省报告新型冠状病毒感染的肺炎新增确诊病例4例。其中：临沂市首次报告...</td>\n",
       "      <td>健康山东</td>\n",
       "      <td>2020-01-23 13:13:20</td>\n",
       "      <td>2020-01-28 18:00:03</td>\n",
       "    </tr>\n",
       "    <tr>\n",
       "      <td>2</td>\n",
       "      <td>3</td>\n",
       "      <td>2020-01-23 10:05:00</td>\n",
       "      <td>澳门确诊第二例新型冠状病毒病例 患者为武汉游客</td>\n",
       "      <td>澳门卫生局表示，澳门确诊第二例新型冠状病毒病例，患者66岁，男性，武汉游客，22日下午入境时...</td>\n",
       "      <td>海外网</td>\n",
       "      <td>2020-01-23 13:13:21</td>\n",
       "      <td>2020-01-28 18:00:03</td>\n",
       "    </tr>\n",
       "    <tr>\n",
       "      <td>3</td>\n",
       "      <td>4</td>\n",
       "      <td>2020-01-23 09:12:00</td>\n",
       "      <td>黑龙江确诊首例输入性新型冠状病毒感染病例</td>\n",
       "      <td>23日，黑龙江确诊首例输入性新型冠状病毒感染病例，患者为男性，69岁，牡丹江市人。1月12日...</td>\n",
       "      <td>央视新闻</td>\n",
       "      <td>2020-01-23 13:13:22</td>\n",
       "      <td>2020-01-28 18:00:03</td>\n",
       "    </tr>\n",
       "    <tr>\n",
       "      <td>4</td>\n",
       "      <td>5</td>\n",
       "      <td>2020-01-23 08:54:00</td>\n",
       "      <td>上海新增7例新型冠状病毒感染的肺炎确诊病例</td>\n",
       "      <td>上海市卫健委23日通报：1月22日0时—24时，本市新增7例新型冠状病毒感染的肺炎确诊病例，...</td>\n",
       "      <td>央视新闻</td>\n",
       "      <td>2020-01-23 13:13:23</td>\n",
       "      <td>2020-01-28 18:00:03</td>\n",
       "    </tr>\n",
       "  </tbody>\n",
       "</table>\n",
       "</div>"
      ],
      "text/plain": [
       "   _id                time                    title  \\\n",
       "0    1 2020-01-23 10:20:00   四川新增3例输入性新型肺炎病例 累计确诊8例   \n",
       "1    2 2020-01-23 10:14:00       山东新增4例新型冠状病毒肺炎确诊病例   \n",
       "2    3 2020-01-23 10:05:00  澳门确诊第二例新型冠状病毒病例 患者为武汉游客   \n",
       "3    4 2020-01-23 09:12:00     黑龙江确诊首例输入性新型冠状病毒感染病例   \n",
       "4    5 2020-01-23 08:54:00    上海新增7例新型冠状病毒感染的肺炎确诊病例   \n",
       "\n",
       "                                                desc  source  \\\n",
       "0  截止1月23日8时，四川省累计报告新型冠状病毒感染的肺炎确诊病例8例（其中成都4例、绵阳2例...  四川省卫健委   \n",
       "1  1月22日0-24时，山东省报告新型冠状病毒感染的肺炎新增确诊病例4例。其中：临沂市首次报告...    健康山东   \n",
       "2  澳门卫生局表示，澳门确诊第二例新型冠状病毒病例，患者66岁，男性，武汉游客，22日下午入境时...     海外网   \n",
       "3  23日，黑龙江确诊首例输入性新型冠状病毒感染病例，患者为男性，69岁，牡丹江市人。1月12日...    央视新闻   \n",
       "4  上海市卫健委23日通报：1月22日0时—24时，本市新增7例新型冠状病毒感染的肺炎确诊病例，...    央视新闻   \n",
       "\n",
       "          create_time          query_time  \n",
       "0 2020-01-23 13:13:18 2020-01-28 18:00:03  \n",
       "1 2020-01-23 13:13:20 2020-01-28 18:00:03  \n",
       "2 2020-01-23 13:13:21 2020-01-28 18:00:03  \n",
       "3 2020-01-23 13:13:22 2020-01-28 18:00:03  \n",
       "4 2020-01-23 13:13:23 2020-01-28 18:00:03  "
      ]
     },
     "execution_count": 16,
     "metadata": {},
     "output_type": "execute_result"
    }
   ],
   "source": [
    "df.head()"
   ]
  },
  {
   "cell_type": "code",
   "execution_count": 29,
   "metadata": {},
   "outputs": [],
   "source": [
    "## apply NER function \n",
    "df['entity_zh'] = df['desc'].apply(entity_tag_zh)"
   ]
  },
  {
   "cell_type": "code",
   "execution_count": 30,
   "metadata": {},
   "outputs": [
    {
     "data": {
      "text/plain": [
       "0          [广安, 成都, 疑似病例]\n",
       "1          [确诊, 病例, 冠状病毒]\n",
       "2          [澳门, 确诊, 冠状病毒]\n",
       "3        [牡丹江市, 冠状病毒, 23]\n",
       "4         [冠状病毒, 卫健委, 23]\n",
       "              ...        \n",
       "164        [出院, 患者, 冠状病毒]\n",
       "165          [肺炎, 日本, 放送]\n",
       "166    [出院, 解放军总医院, 冠状病毒]\n",
       "167     [齐齐哈尔市, 疑似病例, 卫健]\n",
       "168         [病例, 新增, 新余市]\n",
       "Name: entity_zh, Length: 169, dtype: object"
      ]
     },
     "execution_count": 30,
     "metadata": {},
     "output_type": "execute_result"
    }
   ],
   "source": [
    "df['entity_zh'] "
   ]
  },
  {
   "cell_type": "code",
   "execution_count": null,
   "metadata": {},
   "outputs": [],
   "source": []
  },
  {
   "cell_type": "code",
   "execution_count": null,
   "metadata": {},
   "outputs": [],
   "source": []
  },
  {
   "cell_type": "code",
   "execution_count": null,
   "metadata": {},
   "outputs": [],
   "source": []
  },
  {
   "cell_type": "code",
   "execution_count": 35,
   "metadata": {},
   "outputs": [],
   "source": [
    "\n",
    "## split the entity into new row and join with nid colymn\n",
    "entity_df = (df['entity_zh'].apply(pd.Series)\\\n",
    "            .stack()\\\n",
    "            .reset_index(level=1, drop=True)\\\n",
    "            .to_frame('entity_en')\\\n",
    "            .join(df[['_id','time','title', 'desc'  ,'source']], how='left') )"
   ]
  },
  {
   "cell_type": "code",
   "execution_count": 36,
   "metadata": {},
   "outputs": [
    {
     "data": {
      "text/html": [
       "<div>\n",
       "<style scoped>\n",
       "    .dataframe tbody tr th:only-of-type {\n",
       "        vertical-align: middle;\n",
       "    }\n",
       "\n",
       "    .dataframe tbody tr th {\n",
       "        vertical-align: top;\n",
       "    }\n",
       "\n",
       "    .dataframe thead th {\n",
       "        text-align: right;\n",
       "    }\n",
       "</style>\n",
       "<table border=\"1\" class=\"dataframe\">\n",
       "  <thead>\n",
       "    <tr style=\"text-align: right;\">\n",
       "      <th></th>\n",
       "      <th>entity_en</th>\n",
       "      <th>_id</th>\n",
       "      <th>time</th>\n",
       "      <th>title</th>\n",
       "      <th>desc</th>\n",
       "      <th>source</th>\n",
       "    </tr>\n",
       "  </thead>\n",
       "  <tbody>\n",
       "    <tr>\n",
       "      <td>0</td>\n",
       "      <td>广安</td>\n",
       "      <td>1</td>\n",
       "      <td>2020-01-23 10:20:00</td>\n",
       "      <td>四川新增3例输入性新型肺炎病例 累计确诊8例</td>\n",
       "      <td>截止1月23日8时，四川省累计报告新型冠状病毒感染的肺炎确诊病例8例（其中成都4例、绵阳2例...</td>\n",
       "      <td>四川省卫健委</td>\n",
       "    </tr>\n",
       "    <tr>\n",
       "      <td>0</td>\n",
       "      <td>成都</td>\n",
       "      <td>1</td>\n",
       "      <td>2020-01-23 10:20:00</td>\n",
       "      <td>四川新增3例输入性新型肺炎病例 累计确诊8例</td>\n",
       "      <td>截止1月23日8时，四川省累计报告新型冠状病毒感染的肺炎确诊病例8例（其中成都4例、绵阳2例...</td>\n",
       "      <td>四川省卫健委</td>\n",
       "    </tr>\n",
       "    <tr>\n",
       "      <td>0</td>\n",
       "      <td>疑似病例</td>\n",
       "      <td>1</td>\n",
       "      <td>2020-01-23 10:20:00</td>\n",
       "      <td>四川新增3例输入性新型肺炎病例 累计确诊8例</td>\n",
       "      <td>截止1月23日8时，四川省累计报告新型冠状病毒感染的肺炎确诊病例8例（其中成都4例、绵阳2例...</td>\n",
       "      <td>四川省卫健委</td>\n",
       "    </tr>\n",
       "    <tr>\n",
       "      <td>1</td>\n",
       "      <td>确诊</td>\n",
       "      <td>2</td>\n",
       "      <td>2020-01-23 10:14:00</td>\n",
       "      <td>山东新增4例新型冠状病毒肺炎确诊病例</td>\n",
       "      <td>1月22日0-24时，山东省报告新型冠状病毒感染的肺炎新增确诊病例4例。其中：临沂市首次报告...</td>\n",
       "      <td>健康山东</td>\n",
       "    </tr>\n",
       "    <tr>\n",
       "      <td>1</td>\n",
       "      <td>病例</td>\n",
       "      <td>2</td>\n",
       "      <td>2020-01-23 10:14:00</td>\n",
       "      <td>山东新增4例新型冠状病毒肺炎确诊病例</td>\n",
       "      <td>1月22日0-24时，山东省报告新型冠状病毒感染的肺炎新增确诊病例4例。其中：临沂市首次报告...</td>\n",
       "      <td>健康山东</td>\n",
       "    </tr>\n",
       "    <tr>\n",
       "      <td>...</td>\n",
       "      <td>...</td>\n",
       "      <td>...</td>\n",
       "      <td>...</td>\n",
       "      <td>...</td>\n",
       "      <td>...</td>\n",
       "      <td>...</td>\n",
       "    </tr>\n",
       "    <tr>\n",
       "      <td>167</td>\n",
       "      <td>疑似病例</td>\n",
       "      <td>168</td>\n",
       "      <td>2020-01-28 22:54:00</td>\n",
       "      <td>黑龙江28日最新通报：新增1例新型冠状病毒感染的肺炎确诊病例</td>\n",
       "      <td>记者从齐齐哈尔市卫健部门获悉，截至2020年1月28日21：00，齐齐哈尔市新增确诊病例1例...</td>\n",
       "      <td>央视新闻</td>\n",
       "    </tr>\n",
       "    <tr>\n",
       "      <td>167</td>\n",
       "      <td>卫健</td>\n",
       "      <td>168</td>\n",
       "      <td>2020-01-28 22:54:00</td>\n",
       "      <td>黑龙江28日最新通报：新增1例新型冠状病毒感染的肺炎确诊病例</td>\n",
       "      <td>记者从齐齐哈尔市卫健部门获悉，截至2020年1月28日21：00，齐齐哈尔市新增确诊病例1例...</td>\n",
       "      <td>央视新闻</td>\n",
       "    </tr>\n",
       "    <tr>\n",
       "      <td>168</td>\n",
       "      <td>病例</td>\n",
       "      <td>169</td>\n",
       "      <td>2020-01-29 01:58:00</td>\n",
       "      <td>江西新增37例新型冠状病毒感染的肺炎确诊病例</td>\n",
       "      <td>2020年1月28日0-24时，江西省报告新型冠状病毒感染的肺炎新增确诊病例37例，新增出院...</td>\n",
       "      <td>江西卫健委</td>\n",
       "    </tr>\n",
       "    <tr>\n",
       "      <td>168</td>\n",
       "      <td>新增</td>\n",
       "      <td>169</td>\n",
       "      <td>2020-01-29 01:58:00</td>\n",
       "      <td>江西新增37例新型冠状病毒感染的肺炎确诊病例</td>\n",
       "      <td>2020年1月28日0-24时，江西省报告新型冠状病毒感染的肺炎新增确诊病例37例，新增出院...</td>\n",
       "      <td>江西卫健委</td>\n",
       "    </tr>\n",
       "    <tr>\n",
       "      <td>168</td>\n",
       "      <td>新余市</td>\n",
       "      <td>169</td>\n",
       "      <td>2020-01-29 01:58:00</td>\n",
       "      <td>江西新增37例新型冠状病毒感染的肺炎确诊病例</td>\n",
       "      <td>2020年1月28日0-24时，江西省报告新型冠状病毒感染的肺炎新增确诊病例37例，新增出院...</td>\n",
       "      <td>江西卫健委</td>\n",
       "    </tr>\n",
       "  </tbody>\n",
       "</table>\n",
       "<p>507 rows × 6 columns</p>\n",
       "</div>"
      ],
      "text/plain": [
       "    entity_en  _id                time                           title  \\\n",
       "0          广安    1 2020-01-23 10:20:00          四川新增3例输入性新型肺炎病例 累计确诊8例   \n",
       "0          成都    1 2020-01-23 10:20:00          四川新增3例输入性新型肺炎病例 累计确诊8例   \n",
       "0        疑似病例    1 2020-01-23 10:20:00          四川新增3例输入性新型肺炎病例 累计确诊8例   \n",
       "1          确诊    2 2020-01-23 10:14:00              山东新增4例新型冠状病毒肺炎确诊病例   \n",
       "1          病例    2 2020-01-23 10:14:00              山东新增4例新型冠状病毒肺炎确诊病例   \n",
       "..        ...  ...                 ...                             ...   \n",
       "167      疑似病例  168 2020-01-28 22:54:00  黑龙江28日最新通报：新增1例新型冠状病毒感染的肺炎确诊病例   \n",
       "167        卫健  168 2020-01-28 22:54:00  黑龙江28日最新通报：新增1例新型冠状病毒感染的肺炎确诊病例   \n",
       "168        病例  169 2020-01-29 01:58:00          江西新增37例新型冠状病毒感染的肺炎确诊病例   \n",
       "168        新增  169 2020-01-29 01:58:00          江西新增37例新型冠状病毒感染的肺炎确诊病例   \n",
       "168       新余市  169 2020-01-29 01:58:00          江西新增37例新型冠状病毒感染的肺炎确诊病例   \n",
       "\n",
       "                                                  desc  source  \n",
       "0    截止1月23日8时，四川省累计报告新型冠状病毒感染的肺炎确诊病例8例（其中成都4例、绵阳2例...  四川省卫健委  \n",
       "0    截止1月23日8时，四川省累计报告新型冠状病毒感染的肺炎确诊病例8例（其中成都4例、绵阳2例...  四川省卫健委  \n",
       "0    截止1月23日8时，四川省累计报告新型冠状病毒感染的肺炎确诊病例8例（其中成都4例、绵阳2例...  四川省卫健委  \n",
       "1    1月22日0-24时，山东省报告新型冠状病毒感染的肺炎新增确诊病例4例。其中：临沂市首次报告...    健康山东  \n",
       "1    1月22日0-24时，山东省报告新型冠状病毒感染的肺炎新增确诊病例4例。其中：临沂市首次报告...    健康山东  \n",
       "..                                                 ...     ...  \n",
       "167  记者从齐齐哈尔市卫健部门获悉，截至2020年1月28日21：00，齐齐哈尔市新增确诊病例1例...    央视新闻  \n",
       "167  记者从齐齐哈尔市卫健部门获悉，截至2020年1月28日21：00，齐齐哈尔市新增确诊病例1例...    央视新闻  \n",
       "168  2020年1月28日0-24时，江西省报告新型冠状病毒感染的肺炎新增确诊病例37例，新增出院...   江西卫健委  \n",
       "168  2020年1月28日0-24时，江西省报告新型冠状病毒感染的肺炎新增确诊病例37例，新增出院...   江西卫健委  \n",
       "168  2020年1月28日0-24时，江西省报告新型冠状病毒感染的肺炎新增确诊病例37例，新增出院...   江西卫健委  \n",
       "\n",
       "[507 rows x 6 columns]"
      ]
     },
     "execution_count": 36,
     "metadata": {},
     "output_type": "execute_result"
    }
   ],
   "source": [
    "entity_df"
   ]
  },
  {
   "cell_type": "code",
   "execution_count": null,
   "metadata": {},
   "outputs": [],
   "source": []
  },
  {
   "cell_type": "code",
   "execution_count": 33,
   "metadata": {
    "collapsed": true
   },
   "outputs": [
    {
     "data": {
      "text/plain": [
       "冠状病毒           72\n",
       "病例             27\n",
       "肺炎             12\n",
       "确诊             12\n",
       "疫情             11\n",
       "               ..\n",
       "18627869526     1\n",
       "11              1\n",
       "34              1\n",
       "荆州市             1\n",
       "常乐              1\n",
       "Name: entity_en, Length: 258, dtype: int64"
      ]
     },
     "execution_count": 33,
     "metadata": {},
     "output_type": "execute_result"
    }
   ],
   "source": [
    "entity_df['entity_en'].value_counts()"
   ]
  },
  {
   "cell_type": "markdown",
   "metadata": {},
   "source": [
    "## save result data to db mySQL"
   ]
  },
  {
   "cell_type": "code",
   "execution_count": 37,
   "metadata": {},
   "outputs": [],
   "source": [
    "entity_df.to_sql(   str((sql_table) +'_nameEntityZH'), con = engine,  if_exists='append',index=False)\n"
   ]
  },
  {
   "cell_type": "code",
   "execution_count": 39,
   "metadata": {},
   "outputs": [],
   "source": [
    "entity_df.to_csv(str((sql_table) +'_nameEntityZH'+ '.csv') , index = False)"
   ]
  },
  {
   "cell_type": "code",
   "execution_count": null,
   "metadata": {},
   "outputs": [],
   "source": []
  },
  {
   "cell_type": "code",
   "execution_count": null,
   "metadata": {},
   "outputs": [],
   "source": []
  },
  {
   "cell_type": "markdown",
   "metadata": {},
   "source": [
    "## sentiment analysis using vaderSentiment ( work well in both formal and informal language (social media）"
   ]
  },
  {
   "cell_type": "code",
   "execution_count": 104,
   "metadata": {},
   "outputs": [],
   "source": []
  },
  {
   "cell_type": "code",
   "execution_count": null,
   "metadata": {},
   "outputs": [],
   "source": []
  },
  {
   "cell_type": "code",
   "execution_count": 146,
   "metadata": {},
   "outputs": [],
   "source": [
    "## save the file to db\n",
    "df_withSentiment.to_sql(   str((sql_table) +'_sentiment'), con = engine,  if_exists='append',index=False)\n"
   ]
  },
  {
   "cell_type": "code",
   "execution_count": 40,
   "metadata": {},
   "outputs": [],
   "source": [
    "df_withSentiment.to_csv(str((sql_table) +'_sentiment'+ '.csv') , index = False)"
   ]
  },
  {
   "cell_type": "code",
   "execution_count": null,
   "metadata": {},
   "outputs": [],
   "source": []
  }
 ],
 "metadata": {
  "kernelspec": {
   "display_name": "Python 3",
   "language": "python",
   "name": "python3"
  },
  "language_info": {
   "codemirror_mode": {
    "name": "ipython",
    "version": 3
   },
   "file_extension": ".py",
   "mimetype": "text/x-python",
   "name": "python",
   "nbconvert_exporter": "python",
   "pygments_lexer": "ipython3",
   "version": "3.7.4"
  }
 },
 "nbformat": 4,
 "nbformat_minor": 2
}
